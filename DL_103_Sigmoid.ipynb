{
  "nbformat": 4,
  "nbformat_minor": 0,
  "metadata": {
    "colab": {
      "name": "DL#103_Sigmoid.ipynb",
      "provenance": [],
      "collapsed_sections": []
    },
    "kernelspec": {
      "name": "python3",
      "display_name": "Python 3"
    }
  },
  "cells": [
    {
      "cell_type": "markdown",
      "metadata": {
        "id": "3Rw0WXXrHRIU",
        "colab_type": "text"
      },
      "source": [
        "#plotting sigmoid function"
      ]
    },
    {
      "cell_type": "code",
      "metadata": {
        "id": "ptnl_00nG10s",
        "colab_type": "code",
        "colab": {}
      },
      "source": [
        "import numpy as np\n",
        "import matplotlib.pyplot as plt\n",
        "import pandas as pd\n",
        "from sklearn.preprocessing import StandardScaler,MinMaxScaler\n",
        "from sklearn.model_selection import train_test_split\n",
        "from sklearn.metrics import accuracy_score, mean_squared_error"
      ],
      "execution_count": 438,
      "outputs": []
    },
    {
      "cell_type": "markdown",
      "metadata": {
        "id": "We4Wn76GHa-p",
        "colab_type": "text"
      },
      "source": [
        "$S_{w,b}(x)=\\frac{1}{1+e^{-(wx+b)}}$\n",
        "\n",
        ">\n",
        "\n"
      ]
    },
    {
      "cell_type": "code",
      "metadata": {
        "id": "Or0QUwOXHaML",
        "colab_type": "code",
        "colab": {}
      },
      "source": [
        "def sigmoid(x,w,b):\n",
        "  return (1/(1+np.exp(-(w*x+b))))"
      ],
      "execution_count": 439,
      "outputs": []
    },
    {
      "cell_type": "code",
      "metadata": {
        "id": "Wnkh-HQIJYzx",
        "colab_type": "code",
        "colab": {
          "base_uri": "https://localhost:8080/",
          "height": 34
        },
        "outputId": "cb57d541-4a15-4825-edea-ed89dc994b67"
      },
      "source": [
        "sigmoid(1,0.5,0)"
      ],
      "execution_count": 440,
      "outputs": [
        {
          "output_type": "execute_result",
          "data": {
            "text/plain": [
              "0.6224593312018546"
            ]
          },
          "metadata": {
            "tags": []
          },
          "execution_count": 440
        }
      ]
    },
    {
      "cell_type": "code",
      "metadata": {
        "id": "8R2cAt97Jc5_",
        "colab_type": "code",
        "colab": {}
      },
      "source": [
        "w=0.9\n",
        "b=0.1\n",
        "X=np.linspace(-10,10,100)\n",
        "Y=sigmoid(X,w,b)\n"
      ],
      "execution_count": 441,
      "outputs": []
    },
    {
      "cell_type": "code",
      "metadata": {
        "id": "Ch-aQQjDJ0_5",
        "colab_type": "code",
        "colab": {
          "base_uri": "https://localhost:8080/",
          "height": 265
        },
        "outputId": "7f77a2f6-07bc-4c95-82de-499547d22b3d"
      },
      "source": [
        "plt.plot(X,Y)\n",
        "plt.show()"
      ],
      "execution_count": 442,
      "outputs": [
        {
          "output_type": "display_data",
          "data": {
            "image/png": "[encoded data removed]",
            "text/plain": [
              "<Figure size 432x288 with 1 Axes>"
            ]
          },
          "metadata": {
            "tags": [],
            "needs_background": "light"
          }
        }
      ]
    },
    {
      "cell_type": "markdown",
      "metadata": {
        "id": "3GjqxmTGMjdQ",
        "colab_type": "text"
      },
      "source": [
        "copied code from code snippet"
      ]
    },
    {
      "cell_type": "code",
      "metadata": {
        "id": "PEyGpCfTKWgQ",
        "colab_type": "code",
        "colab": {
          "base_uri": "https://localhost:8080/",
          "height": 265
        },
        "outputId": "cde1e82b-5539-4c29-fe57-9a61a6cc1870"
      },
      "source": [
        "#negative sigmoid function\n",
        "w=-1.7   #@param {type: \"slider\", min: -2, max: 2, step:0.1}\n",
        "\n",
        "b=-1.7  #@param {type: \"slider\", min: -2, max: 2, step:0.1}\n",
        "X=np.linspace(-10,10,100)\n",
        "Y=sigmoid(X,w,b)\n",
        "plt.plot(X,Y)\n",
        "plt.show()\n"
      ],
      "execution_count": 443,
      "outputs": [
        {
          "output_type": "display_data",
          "data": {
            "image/png": "[encoded data removed]",
            "text/plain": [
              "<Figure size 432x288 with 1 Axes>"
            ]
          },
          "metadata": {
            "tags": [],
            "needs_background": "light"
          }
        }
      ]
    },
    {
      "cell_type": "markdown",
      "metadata": {
        "id": "-qE6PhVERDtv",
        "colab_type": "text"
      },
      "source": [
        "$S_{w_1,w_2,b}(x_1,x_2)=\\frac{1}{1+e^{-(w_1*x_1+w_2*x_2+b)}}$"
      ]
    },
    {
      "cell_type": "code",
      "metadata": {
        "id": "Xnjvi7_ZK4nF",
        "colab_type": "code",
        "colab": {}
      },
      "source": [
        "def sigmoid_2d(x1,x2,w1,w2,b):\n",
        "  return (1/(1+np.exp(-(w1*x1+w2*x2+b))))"
      ],
      "execution_count": 444,
      "outputs": []
    },
    {
      "cell_type": "code",
      "metadata": {
        "id": "x9hJQFE6SM-i",
        "colab_type": "code",
        "colab": {
          "base_uri": "https://localhost:8080/",
          "height": 34
        },
        "outputId": "e068d047-c331-4d2c-e9ef-2a5bed517909"
      },
      "source": [
        "sigmoid_2d(1,0,0.5,0,0)"
      ],
      "execution_count": 445,
      "outputs": [
        {
          "output_type": "execute_result",
          "data": {
            "text/plain": [
              "0.6224593312018546"
            ]
          },
          "metadata": {
            "tags": []
          },
          "execution_count": 445
        }
      ]
    },
    {
      "cell_type": "code",
      "metadata": {
        "id": "aZNC3VOYTwDL",
        "colab_type": "code",
        "colab": {}
      },
      "source": [
        "from mpl_toolkits import mplot3d"
      ],
      "execution_count": 446,
      "outputs": []
    },
    {
      "cell_type": "code",
      "metadata": {
        "id": "pmBKG-qXSTMt",
        "colab_type": "code",
        "colab": {}
      },
      "source": [
        "\n",
        "X1=np.linspace(-10,10,100)\n",
        "X2=np.linspace(-10,10,100)\n",
        "XX1,XX2=np.meshgrid(X1,X2)"
      ],
      "execution_count": 447,
      "outputs": []
    },
    {
      "cell_type": "code",
      "metadata": {
        "id": "oFv9EfGpUDhq",
        "colab_type": "code",
        "colab": {
          "base_uri": "https://localhost:8080/",
          "height": 34
        },
        "outputId": "2a258836-5c5c-40b8-e371-db975a33625f"
      },
      "source": [
        "print(X1.shape,X2.shape, XX1.shape, XX2.shape)"
      ],
      "execution_count": 448,
      "outputs": [
        {
          "output_type": "stream",
          "text": [
            "(100,) (100,) (100, 100) (100, 100)\n"
          ],
          "name": "stdout"
        }
      ]
    },
    {
      "cell_type": "code",
      "metadata": {
        "id": "qAfmLX3OUJli",
        "colab_type": "code",
        "colab": {}
      },
      "source": [
        "w1=0.5\n",
        "w2=0.5\n",
        "b=0\n",
        "Y=sigmoid_2d(XX1,XX1,w1,w2,b)"
      ],
      "execution_count": 449,
      "outputs": []
    },
    {
      "cell_type": "code",
      "metadata": {
        "id": "53On7_MKU3fM",
        "colab_type": "code",
        "colab": {
          "base_uri": "https://localhost:8080/",
          "height": 265
        },
        "outputId": "042dedfb-844f-4e9f-982c-88656831ed33"
      },
      "source": [
        "fig=plt.figure()\n",
        "ax=plt.axes(projection=\"3d\")\n",
        "ax.plot_surface(XX1,XX2,Y,cmap='viridis')\n",
        "ax.set_xlabel('xx1')\n",
        "ax.set_ylabel('xx2')\n",
        "ax.set_zlabel('y')"
      ],
      "execution_count": 450,
      "outputs": [
        {
          "output_type": "execute_result",
          "data": {
            "text/plain": [
              "Text(0.5, 0, 'y')"
            ]
          },
          "metadata": {
            "tags": []
          },
          "execution_count": 450
        },
        {
          "output_type": "display_data",
          "data": {
            "image/png": "[encoded data removed]",
            "text/plain": [
              "<Figure size 432x288 with 1 Axes>"
            ]
          },
          "metadata": {
            "tags": [],
            "needs_background": "light"
          }
        }
      ]
    },
    {
      "cell_type": "code",
      "metadata": {
        "id": "s2i_gUu88tmr",
        "colab_type": "code",
        "colab": {
          "base_uri": "https://localhost:8080/",
          "height": 269
        },
        "outputId": "36fdfd4f-a15c-485c-f0b6-a4343633fcdf"
      },
      "source": [
        "plt.contourf(XX1,XX2,Y)\n",
        "plt.show()"
      ],
      "execution_count": 451,
      "outputs": [
        {
          "output_type": "display_data",
          "data": {
            "image/png": "[encoded data removed]",
            "text/plain": [
              "<Figure size 432x288 with 1 Axes>"
            ]
          },
          "metadata": {
            "tags": [],
            "needs_background": "light"
          }
        }
      ]
    },
    {
      "cell_type": "markdown",
      "metadata": {
        "id": "eCiRH6bAfCfo",
        "colab_type": "text"
      },
      "source": [
        "#compute loss"
      ]
    },
    {
      "cell_type": "code",
      "metadata": {
        "id": "opzvnjNoVsrB",
        "colab_type": "code",
        "colab": {
          "base_uri": "https://localhost:8080/",
          "height": 265
        },
        "outputId": "81421657-df88-41b4-8168-44f4aa54f223"
      },
      "source": [
        "w_unknown=0.5\n",
        "b_unknown=0.5\n",
        "X=np.random.random(25)*20-10\n",
        "Y=sigmoid(X,w_unknown,b_unknown)\n",
        "plt.plot(X,Y,'*')\n",
        "plt.show()"
      ],
      "execution_count": 452,
      "outputs": [
        {
          "output_type": "display_data",
          "data": {
            "image/png": "[encoded data removed]",
            "text/plain": [
              "<Figure size 432x288 with 1 Axes>"
            ]
          },
          "metadata": {
            "tags": [],
            "needs_background": "light"
          }
        }
      ]
    },
    {
      "cell_type": "code",
      "metadata": {
        "id": "IhP6DVx2fvrb",
        "colab_type": "code",
        "colab": {}
      },
      "source": [
        "def calculate_loss(X,Y,w_est,b_est):\n",
        "  loss=0\n",
        "  for x,y in zip(X,Y):\n",
        "    loss +=(y-sigmoid(x,w_est,b_est))**2\n",
        "  return loss"
      ],
      "execution_count": 453,
      "outputs": []
    },
    {
      "cell_type": "code",
      "metadata": {
        "id": "uvTu6Uy6ikkJ",
        "colab_type": "code",
        "colab": {}
      },
      "source": [
        "W=np.linspace(-1,1,100)\n",
        "B=np.linspace(-1,1,100)\n",
        "WW,BB=np.meshgrid(W,B)\n",
        "Loss=np.zeros(WW.shape)"
      ],
      "execution_count": 454,
      "outputs": []
    },
    {
      "cell_type": "code",
      "metadata": {
        "id": "O_ieNNWci3ng",
        "colab_type": "code",
        "colab": {
          "base_uri": "https://localhost:8080/",
          "height": 34
        },
        "outputId": "5c39b9c5-b41e-4331-ec5c-e0c322e2fdb0"
      },
      "source": [
        "WW.shape"
      ],
      "execution_count": 455,
      "outputs": [
        {
          "output_type": "execute_result",
          "data": {
            "text/plain": [
              "(100, 100)"
            ]
          },
          "metadata": {
            "tags": []
          },
          "execution_count": 455
        }
      ]
    },
    {
      "cell_type": "code",
      "metadata": {
        "id": "RZQTGNL4jdV8",
        "colab_type": "code",
        "colab": {}
      },
      "source": [
        "for i in range(WW.shape[0]):\n",
        "  for j in range(WW.shape[1]):\n",
        "    Loss[i,j]= calculate_loss(X,Y,WW[i,j],BB[i,j])"
      ],
      "execution_count": 456,
      "outputs": []
    },
    {
      "cell_type": "code",
      "metadata": {
        "id": "XXdUXJSakDbH",
        "colab_type": "code",
        "colab": {
          "base_uri": "https://localhost:8080/",
          "height": 265
        },
        "outputId": "b2877039-53cd-4de6-cfb7-e98a9765e258"
      },
      "source": [
        "fig=plt.figure()\n",
        "ax=plt.axes(projection=\"3d\")\n",
        "ax.plot_surface(WW,BB,Loss,cmap=\"viridis\")\n",
        "ax.set_xlabel(\"w\")\n",
        "ax.set_ylabel(\"b\")\n",
        "ax.set_zlabel('Loss')\n"
      ],
      "execution_count": 457,
      "outputs": [
        {
          "output_type": "execute_result",
          "data": {
            "text/plain": [
              "Text(0.5, 0, 'Loss')"
            ]
          },
          "metadata": {
            "tags": []
          },
          "execution_count": 457
        },
        {
          "output_type": "display_data",
          "data": {
            "image/png": "[encoded data removed]",
            "text/plain": [
              "<Figure size 432x288 with 1 Axes>"
            ]
          },
          "metadata": {
            "tags": [],
            "needs_background": "light"
          }
        }
      ]
    },
    {
      "cell_type": "code",
      "metadata": {
        "id": "orWPIDrclkSe",
        "colab_type": "code",
        "colab": {}
      },
      "source": [
        "ij=np.argmin(Loss)\n",
        "i=int(np.floor(ij/Loss.shape[1]))\n",
        "j=int(ij-i*Loss.shape[1])"
      ],
      "execution_count": 458,
      "outputs": []
    },
    {
      "cell_type": "code",
      "metadata": {
        "id": "yiuMbknUxc_i",
        "colab_type": "code",
        "colab": {
          "base_uri": "https://localhost:8080/",
          "height": 34
        },
        "outputId": "c644b680-df43-4100-c691-1d00207b3060"
      },
      "source": [
        "print(ij)"
      ],
      "execution_count": 459,
      "outputs": [
        {
          "output_type": "stream",
          "text": [
            "7474\n"
          ],
          "name": "stdout"
        }
      ]
    },
    {
      "cell_type": "code",
      "metadata": {
        "id": "6lSmNILkxgQS",
        "colab_type": "code",
        "colab": {
          "base_uri": "https://localhost:8080/",
          "height": 34
        },
        "outputId": "c746c5c0-2694-43fe-971b-aa0d1eb87113"
      },
      "source": [
        "print(WW[i,j],BB[i,j])"
      ],
      "execution_count": 460,
      "outputs": [
        {
          "output_type": "stream",
          "text": [
            "0.49494949494949503 0.49494949494949503\n"
          ],
          "name": "stdout"
        }
      ]
    },
    {
      "cell_type": "markdown",
      "metadata": {
        "id": "5ptz4sqxDxBW",
        "colab_type": "text"
      },
      "source": [
        "#Sigmoid Class"
      ]
    },
    {
      "cell_type": "code",
      "metadata": {
        "id": "ysVslyIFDwaO",
        "colab_type": "code",
        "colab": {}
      },
      "source": [
        "class SigmoidNeuron:\n",
        "  def __init__(self):\n",
        "    self.w=None\n",
        "    self.b=None\n",
        "\n",
        "  def perceptron(self,x):\n",
        "    return np.dot(x,self.w.T)+self.b\n",
        "\n",
        "  def sigmoid(self,x):\n",
        "    return 1.0/(1.0 + np.exp(-x))\n",
        "\n",
        "  def grad_w(self,x,y):\n",
        "    y_pred=self.sigmoid(self.perceptron(x))\n",
        "    return (y_pred-y)* y_pred * (1-y_pred) * x\n",
        "\n",
        "  def grad_b(self,x,y):\n",
        "    y_pred=self.sigmoid(self.perceptron(x))\n",
        "    return (y_pred-y)* y_pred * (1-y_pred) \n",
        "\n",
        "  def fit(self,X,Y,epochs=1, learning_rate=1,initialise=True,display_loss=False):\n",
        "    if initialise:\n",
        "      self.w=np.random.randn(1,X.shape[1])\n",
        "      self.b=0\n",
        "\n",
        "    if display_loss:\n",
        "      loss={}\n",
        "\n",
        "    for i in range(epochs):\n",
        "      dw=0\n",
        "      db=0\n",
        "      for x,y in zip(X,Y):\n",
        "        dw +=self.grad_w(x,y)\n",
        "        db +=self.grad_b(x,y)\n",
        "      self.w -=learning_rate * dw\n",
        "      self.b -=learning_rate * db\n",
        "\n",
        "      if display_loss:\n",
        "        Y_pred=self.sigmoid(self.perceptron(x))\n",
        "        loss[i]=mean_squared_error(Y_pred,Y)\n",
        "    if display_loss:\n",
        "      plt.plot(loss.values())\n",
        "      plt.xlabel(\"epochs\")\n",
        "      plt.ylabel(\"mean squared error\")\n",
        "      plt.show() \n",
        "  def predict(self,X):\n",
        "    Y_pred=[]\n",
        "    for x in X:\n",
        "      y_pred=self.sigmoid(self.perceptron(x))\n",
        "      Y_pred.append(y_pred)\n",
        "    return np.array(Y_pred)\n"
      ],
      "execution_count": 461,
      "outputs": []
    },
    {
      "cell_type": "markdown",
      "metadata": {
        "id": "d6hVTBtUAVku",
        "colab_type": "text"
      },
      "source": [
        "##test"
      ]
    },
    {
      "cell_type": "code",
      "metadata": {
        "id": "Z14Y0VRFInG2",
        "colab_type": "code",
        "colab": {}
      },
      "source": [
        "X=np.asarray([[2.5,2.5],[4,-1],[1,-4],[-3,1.25],[-2,-4],[1,5]])\n",
        "Y=[1,1,1,0,0,0]"
      ],
      "execution_count": 462,
      "outputs": []
    },
    {
      "cell_type": "code",
      "metadata": {
        "id": "l0KKcWkMxjqK",
        "colab_type": "code",
        "colab": {}
      },
      "source": [
        "sn=SigmoidNeuron()\n",
        "sn.fit(X,Y,1,0.25,True)"
      ],
      "execution_count": 463,
      "outputs": []
    },
    {
      "cell_type": "code",
      "metadata": {
        "id": "zK_uUQFKHTcL",
        "colab_type": "code",
        "colab": {
          "base_uri": "https://localhost:8080/",
          "height": 34
        },
        "outputId": "71614c54-2802-49fb-d925-0f986b18dbc9"
      },
      "source": [
        "print(sn.w,sn.b)"
      ],
      "execution_count": 464,
      "outputs": [
        {
          "output_type": "stream",
          "text": [
            "[[0.94756861 0.33498474]] [0.02549157]\n"
          ],
          "name": "stdout"
        }
      ]
    },
    {
      "cell_type": "code",
      "metadata": {
        "id": "n9IicHrvSzyd",
        "colab_type": "code",
        "colab": {
          "base_uri": "https://localhost:8080/",
          "height": 187
        },
        "outputId": "bb410bea-bcc6-4315-9f35-05b84e568722"
      },
      "source": [
        "#sn.fit(X,Y,1,0.5,True)\n",
        "for i in range(10):\n",
        "  print(sn.w,sn.b)\n",
        "  sn.fit(X,Y,1,0.5,False)"
      ],
      "execution_count": 465,
      "outputs": [
        {
          "output_type": "stream",
          "text": [
            "[[0.94756861 0.33498474]] [0.02549157]\n",
            "[[ 1.00459823 -0.09457586]] [0.06529272]\n",
            "[[ 0.98220828 -0.4655042 ]] [-0.00356353]\n",
            "[[ 1.13209614 -0.27420901]] [-0.06001248]\n",
            "[[ 1.13893703 -0.46065025]] [-0.12196675]\n",
            "[[ 1.237304   -0.35901336]] [-0.1689947]\n",
            "[[ 1.26020521 -0.45216766]] [-0.21662074]\n",
            "[[ 1.32066781 -0.42203871]] [-0.25554934]\n",
            "[[ 1.35404941 -0.45673898]] [-0.29293435]\n",
            "[[ 1.3950394  -0.45984732]] [-0.32613074]\n"
          ],
          "name": "stdout"
        }
      ]
    },
    {
      "cell_type": "code",
      "metadata": {
        "id": "DsBm6yymf4qg",
        "colab_type": "code",
        "colab": {}
      },
      "source": [
        "def plot_sn(X,Y,sn,ax):\n",
        "  X1=np.linspace(-10,10,100)\n",
        "  X2=np.linspace(-10,10,100)\n",
        "  XX1,XX2=np.meshgrid(X1,X2)\n",
        "  YY=np.zeros(XX1.shape)\n",
        "  for i in range(X2.size):\n",
        "    for j in range(X1.size):\n",
        "      val=np.asarray([X1[j],X2[i]])\n",
        "      YY[i,j]=sn.sigmoid(sn.perceptron(val))\n",
        "  ax.contourf(XX1,XX2,YY,cmap='viridis', alpha=0.6)\n",
        "  ax.scatter(X[:,0],X[:,1],c=b,cmap='viridis')\n",
        "  ax.plot()"
      ],
      "execution_count": 466,
      "outputs": []
    },
    {
      "cell_type": "code",
      "metadata": {
        "id": "UXnzvZ8aJqwO",
        "colab_type": "code",
        "colab": {}
      },
      "source": [
        "#plt.figure(figsize=(15,5))\n",
        "#sn.fit(X,Y,1,0.25,True)\n",
        "#N=20\n",
        "#for i in range(N):\n",
        " # print(sn.w,sn.b)\n",
        " # ax=plt.subplot(N,1,i+1)\n",
        "  #plot_sn(X,Y,sn,ax)\n",
        "  #sn.fit(X,Y,1,0.25,True)\n",
        "  "
      ],
      "execution_count": 467,
      "outputs": []
    },
    {
      "cell_type": "code",
      "metadata": {
        "id": "atNd4zNcKZ7j",
        "colab_type": "code",
        "colab": {}
      },
      "source": [
        ""
      ],
      "execution_count": 467,
      "outputs": []
    },
    {
      "cell_type": "markdown",
      "metadata": {
        "id": "rEm20ibwg5u0",
        "colab_type": "text"
      },
      "source": [
        "## Load data"
      ]
    },
    {
      "cell_type": "code",
      "metadata": {
        "id": "KJmKr76Bg7qd",
        "colab_type": "code",
        "colab": {}
      },
      "source": [
        "import pandas as pd\n",
        "import numpy as np\n",
        "from sklearn.preprocessing import StandardScaler,MinMaxScaler\n",
        "from sklearn.model_selection import train_test_split\n",
        "from sklearn.metrics import accuracy_score, mean_squared_error"
      ],
      "execution_count": 468,
      "outputs": []
    },
    {
      "cell_type": "code",
      "metadata": {
        "id": "HSKTA1uIhkUT",
        "colab_type": "code",
        "colab": {}
      },
      "source": [
        "data=pd.read_csv(\"mobile_cleaned.csv\")"
      ],
      "execution_count": 469,
      "outputs": []
    },
    {
      "cell_type": "code",
      "metadata": {
        "id": "qW2FcATmhpCU",
        "colab_type": "code",
        "colab": {
          "base_uri": "https://localhost:8080/",
          "height": 321
        },
        "outputId": "bc98f11a-99fc-43b1-9f7e-1fdb933d37d4"
      },
      "source": [
        "data.head()"
      ],
      "execution_count": 470,
      "outputs": [
        {
          "output_type": "execute_result",
          "data": {
            "text/html": [
              "<div>\n",
              "<style scoped>\n",
              "    .dataframe tbody tr th:only-of-type {\n",
              "        vertical-align: middle;\n",
              "    }\n",
              "\n",
              "    .dataframe tbody tr th {\n",
              "        vertical-align: top;\n",
              "    }\n",
              "\n",
              "    .dataframe thead th {\n",
              "        text-align: right;\n",
              "    }\n",
              "</style>\n",
              "<table border=\"1\" class=\"dataframe\">\n",
              "  <thead>\n",
              "    <tr style=\"text-align: right;\">\n",
              "      <th></th>\n",
              "      <th>PhoneId</th>\n",
              "      <th>Pixel Density</th>\n",
              "      <th>Screen Size</th>\n",
              "      <th>Weight</th>\n",
              "      <th>RAM</th>\n",
              "      <th>Processor_frequency</th>\n",
              "      <th>Screen to Body Ratio (calculated)</th>\n",
              "      <th>Height</th>\n",
              "      <th>Internal Memory</th>\n",
              "      <th>Capacity</th>\n",
              "      <th>Resolution</th>\n",
              "      <th>SIM 2_2G</th>\n",
              "      <th>SIM 2_3G</th>\n",
              "      <th>SIM 2_4G</th>\n",
              "      <th>SIM 2_Other</th>\n",
              "      <th>Num_cores_312</th>\n",
              "      <th>Num_cores_Deca</th>\n",
              "      <th>Num_cores_Dual</th>\n",
              "      <th>Num_cores_Hexa</th>\n",
              "      <th>Num_cores_Octa</th>\n",
              "      <th>Num_cores_Other</th>\n",
              "      <th>Num_cores_Quad</th>\n",
              "      <th>Num_cores_Tru-Octa</th>\n",
              "      <th>Brand_10.or</th>\n",
              "      <th>Brand_Apple</th>\n",
              "      <th>Brand_Asus</th>\n",
              "      <th>Brand_Billion</th>\n",
              "      <th>Brand_Blackberry</th>\n",
              "      <th>Brand_Comio</th>\n",
              "      <th>Brand_Coolpad</th>\n",
              "      <th>Brand_Do</th>\n",
              "      <th>Brand_Gionee</th>\n",
              "      <th>Brand_Google</th>\n",
              "      <th>Brand_HTC</th>\n",
              "      <th>Brand_Honor</th>\n",
              "      <th>Brand_Huawei</th>\n",
              "      <th>Brand_InFocus</th>\n",
              "      <th>Brand_Infinix</th>\n",
              "      <th>Brand_Intex</th>\n",
              "      <th>Brand_Itel</th>\n",
              "      <th>...</th>\n",
              "      <th>Brand_Meizu</th>\n",
              "      <th>Brand_Micromax</th>\n",
              "      <th>Brand_Mobiistar</th>\n",
              "      <th>Brand_Moto</th>\n",
              "      <th>Brand_Motorola</th>\n",
              "      <th>Brand_Nokia</th>\n",
              "      <th>Brand_Nubia</th>\n",
              "      <th>Brand_OPPO</th>\n",
              "      <th>Brand_OnePlus</th>\n",
              "      <th>Brand_Oppo</th>\n",
              "      <th>Brand_Panasonic</th>\n",
              "      <th>Brand_Razer</th>\n",
              "      <th>Brand_Realme</th>\n",
              "      <th>Brand_Reliance</th>\n",
              "      <th>Brand_Samsung</th>\n",
              "      <th>Brand_Sony</th>\n",
              "      <th>Brand_Spice</th>\n",
              "      <th>Brand_Tecno</th>\n",
              "      <th>Brand_Ulefone</th>\n",
              "      <th>Brand_VOTO</th>\n",
              "      <th>Brand_Vivo</th>\n",
              "      <th>Brand_Xiaomi</th>\n",
              "      <th>Brand_Xiaomi Poco</th>\n",
              "      <th>Brand_Yu</th>\n",
              "      <th>Brand_iVooMi</th>\n",
              "      <th>os_name_Android</th>\n",
              "      <th>os_name_Blackberry</th>\n",
              "      <th>os_name_KAI</th>\n",
              "      <th>os_name_Nokia</th>\n",
              "      <th>os_name_Other</th>\n",
              "      <th>os_name_Tizen</th>\n",
              "      <th>os_name_iOS</th>\n",
              "      <th>SIM Slot(s)_Dual SIM, GSM+CDMA</th>\n",
              "      <th>SIM Slot(s)_Dual SIM, GSM+GSM</th>\n",
              "      <th>SIM Slot(s)_Dual SIM, GSM+GSM, Dual VoLTE</th>\n",
              "      <th>SIM Slot(s)_Single SIM, GSM</th>\n",
              "      <th>Sim1_2G</th>\n",
              "      <th>Sim1_3G</th>\n",
              "      <th>Sim1_4G</th>\n",
              "      <th>Rating</th>\n",
              "    </tr>\n",
              "  </thead>\n",
              "  <tbody>\n",
              "    <tr>\n",
              "      <th>0</th>\n",
              "      <td>0</td>\n",
              "      <td>403</td>\n",
              "      <td>6.26</td>\n",
              "      <td>182</td>\n",
              "      <td>4</td>\n",
              "      <td>1.8</td>\n",
              "      <td>80.68</td>\n",
              "      <td>157.9</td>\n",
              "      <td>64</td>\n",
              "      <td>4000</td>\n",
              "      <td>20</td>\n",
              "      <td>0</td>\n",
              "      <td>0</td>\n",
              "      <td>1</td>\n",
              "      <td>0</td>\n",
              "      <td>0</td>\n",
              "      <td>0</td>\n",
              "      <td>0</td>\n",
              "      <td>0</td>\n",
              "      <td>1</td>\n",
              "      <td>0</td>\n",
              "      <td>0</td>\n",
              "      <td>0</td>\n",
              "      <td>0</td>\n",
              "      <td>0</td>\n",
              "      <td>0</td>\n",
              "      <td>0</td>\n",
              "      <td>0</td>\n",
              "      <td>0</td>\n",
              "      <td>0</td>\n",
              "      <td>0</td>\n",
              "      <td>0</td>\n",
              "      <td>0</td>\n",
              "      <td>0</td>\n",
              "      <td>0</td>\n",
              "      <td>0</td>\n",
              "      <td>0</td>\n",
              "      <td>0</td>\n",
              "      <td>0</td>\n",
              "      <td>0</td>\n",
              "      <td>...</td>\n",
              "      <td>0</td>\n",
              "      <td>0</td>\n",
              "      <td>0</td>\n",
              "      <td>0</td>\n",
              "      <td>0</td>\n",
              "      <td>0</td>\n",
              "      <td>0</td>\n",
              "      <td>0</td>\n",
              "      <td>0</td>\n",
              "      <td>0</td>\n",
              "      <td>0</td>\n",
              "      <td>0</td>\n",
              "      <td>0</td>\n",
              "      <td>0</td>\n",
              "      <td>0</td>\n",
              "      <td>0</td>\n",
              "      <td>0</td>\n",
              "      <td>0</td>\n",
              "      <td>0</td>\n",
              "      <td>0</td>\n",
              "      <td>0</td>\n",
              "      <td>1</td>\n",
              "      <td>0</td>\n",
              "      <td>0</td>\n",
              "      <td>0</td>\n",
              "      <td>1</td>\n",
              "      <td>0</td>\n",
              "      <td>0</td>\n",
              "      <td>0</td>\n",
              "      <td>0</td>\n",
              "      <td>0</td>\n",
              "      <td>0</td>\n",
              "      <td>0</td>\n",
              "      <td>0</td>\n",
              "      <td>1</td>\n",
              "      <td>0</td>\n",
              "      <td>0</td>\n",
              "      <td>0</td>\n",
              "      <td>1</td>\n",
              "      <td>4.5</td>\n",
              "    </tr>\n",
              "    <tr>\n",
              "      <th>1</th>\n",
              "      <td>1</td>\n",
              "      <td>271</td>\n",
              "      <td>6.20</td>\n",
              "      <td>168</td>\n",
              "      <td>3</td>\n",
              "      <td>1.8</td>\n",
              "      <td>80.85</td>\n",
              "      <td>156.2</td>\n",
              "      <td>32</td>\n",
              "      <td>4230</td>\n",
              "      <td>8</td>\n",
              "      <td>0</td>\n",
              "      <td>0</td>\n",
              "      <td>1</td>\n",
              "      <td>0</td>\n",
              "      <td>0</td>\n",
              "      <td>0</td>\n",
              "      <td>0</td>\n",
              "      <td>0</td>\n",
              "      <td>1</td>\n",
              "      <td>0</td>\n",
              "      <td>0</td>\n",
              "      <td>0</td>\n",
              "      <td>0</td>\n",
              "      <td>0</td>\n",
              "      <td>0</td>\n",
              "      <td>0</td>\n",
              "      <td>0</td>\n",
              "      <td>0</td>\n",
              "      <td>0</td>\n",
              "      <td>0</td>\n",
              "      <td>0</td>\n",
              "      <td>0</td>\n",
              "      <td>0</td>\n",
              "      <td>0</td>\n",
              "      <td>0</td>\n",
              "      <td>0</td>\n",
              "      <td>0</td>\n",
              "      <td>0</td>\n",
              "      <td>0</td>\n",
              "      <td>...</td>\n",
              "      <td>0</td>\n",
              "      <td>0</td>\n",
              "      <td>0</td>\n",
              "      <td>0</td>\n",
              "      <td>0</td>\n",
              "      <td>0</td>\n",
              "      <td>0</td>\n",
              "      <td>0</td>\n",
              "      <td>0</td>\n",
              "      <td>0</td>\n",
              "      <td>0</td>\n",
              "      <td>0</td>\n",
              "      <td>1</td>\n",
              "      <td>0</td>\n",
              "      <td>0</td>\n",
              "      <td>0</td>\n",
              "      <td>0</td>\n",
              "      <td>0</td>\n",
              "      <td>0</td>\n",
              "      <td>0</td>\n",
              "      <td>0</td>\n",
              "      <td>0</td>\n",
              "      <td>0</td>\n",
              "      <td>0</td>\n",
              "      <td>0</td>\n",
              "      <td>1</td>\n",
              "      <td>0</td>\n",
              "      <td>0</td>\n",
              "      <td>0</td>\n",
              "      <td>0</td>\n",
              "      <td>0</td>\n",
              "      <td>0</td>\n",
              "      <td>0</td>\n",
              "      <td>0</td>\n",
              "      <td>1</td>\n",
              "      <td>0</td>\n",
              "      <td>0</td>\n",
              "      <td>0</td>\n",
              "      <td>1</td>\n",
              "      <td>4.5</td>\n",
              "    </tr>\n",
              "    <tr>\n",
              "      <th>2</th>\n",
              "      <td>2</td>\n",
              "      <td>409</td>\n",
              "      <td>6.30</td>\n",
              "      <td>168</td>\n",
              "      <td>3</td>\n",
              "      <td>2.1</td>\n",
              "      <td>83.68</td>\n",
              "      <td>157.0</td>\n",
              "      <td>32</td>\n",
              "      <td>3500</td>\n",
              "      <td>25</td>\n",
              "      <td>0</td>\n",
              "      <td>0</td>\n",
              "      <td>1</td>\n",
              "      <td>0</td>\n",
              "      <td>0</td>\n",
              "      <td>0</td>\n",
              "      <td>0</td>\n",
              "      <td>0</td>\n",
              "      <td>1</td>\n",
              "      <td>0</td>\n",
              "      <td>0</td>\n",
              "      <td>0</td>\n",
              "      <td>0</td>\n",
              "      <td>0</td>\n",
              "      <td>0</td>\n",
              "      <td>0</td>\n",
              "      <td>0</td>\n",
              "      <td>0</td>\n",
              "      <td>0</td>\n",
              "      <td>0</td>\n",
              "      <td>0</td>\n",
              "      <td>0</td>\n",
              "      <td>0</td>\n",
              "      <td>0</td>\n",
              "      <td>0</td>\n",
              "      <td>0</td>\n",
              "      <td>0</td>\n",
              "      <td>0</td>\n",
              "      <td>0</td>\n",
              "      <td>...</td>\n",
              "      <td>0</td>\n",
              "      <td>0</td>\n",
              "      <td>0</td>\n",
              "      <td>0</td>\n",
              "      <td>0</td>\n",
              "      <td>0</td>\n",
              "      <td>0</td>\n",
              "      <td>0</td>\n",
              "      <td>0</td>\n",
              "      <td>0</td>\n",
              "      <td>0</td>\n",
              "      <td>0</td>\n",
              "      <td>1</td>\n",
              "      <td>0</td>\n",
              "      <td>0</td>\n",
              "      <td>0</td>\n",
              "      <td>0</td>\n",
              "      <td>0</td>\n",
              "      <td>0</td>\n",
              "      <td>0</td>\n",
              "      <td>0</td>\n",
              "      <td>0</td>\n",
              "      <td>0</td>\n",
              "      <td>0</td>\n",
              "      <td>0</td>\n",
              "      <td>1</td>\n",
              "      <td>0</td>\n",
              "      <td>0</td>\n",
              "      <td>0</td>\n",
              "      <td>0</td>\n",
              "      <td>0</td>\n",
              "      <td>0</td>\n",
              "      <td>0</td>\n",
              "      <td>0</td>\n",
              "      <td>1</td>\n",
              "      <td>0</td>\n",
              "      <td>0</td>\n",
              "      <td>0</td>\n",
              "      <td>1</td>\n",
              "      <td>4.4</td>\n",
              "    </tr>\n",
              "    <tr>\n",
              "      <th>3</th>\n",
              "      <td>4</td>\n",
              "      <td>411</td>\n",
              "      <td>6.00</td>\n",
              "      <td>169</td>\n",
              "      <td>4</td>\n",
              "      <td>2.2</td>\n",
              "      <td>74.78</td>\n",
              "      <td>159.8</td>\n",
              "      <td>64</td>\n",
              "      <td>3300</td>\n",
              "      <td>24</td>\n",
              "      <td>0</td>\n",
              "      <td>0</td>\n",
              "      <td>1</td>\n",
              "      <td>0</td>\n",
              "      <td>0</td>\n",
              "      <td>0</td>\n",
              "      <td>0</td>\n",
              "      <td>0</td>\n",
              "      <td>1</td>\n",
              "      <td>0</td>\n",
              "      <td>0</td>\n",
              "      <td>0</td>\n",
              "      <td>0</td>\n",
              "      <td>0</td>\n",
              "      <td>0</td>\n",
              "      <td>0</td>\n",
              "      <td>0</td>\n",
              "      <td>0</td>\n",
              "      <td>0</td>\n",
              "      <td>0</td>\n",
              "      <td>0</td>\n",
              "      <td>0</td>\n",
              "      <td>0</td>\n",
              "      <td>0</td>\n",
              "      <td>0</td>\n",
              "      <td>0</td>\n",
              "      <td>0</td>\n",
              "      <td>0</td>\n",
              "      <td>0</td>\n",
              "      <td>...</td>\n",
              "      <td>0</td>\n",
              "      <td>0</td>\n",
              "      <td>0</td>\n",
              "      <td>0</td>\n",
              "      <td>0</td>\n",
              "      <td>0</td>\n",
              "      <td>0</td>\n",
              "      <td>0</td>\n",
              "      <td>0</td>\n",
              "      <td>0</td>\n",
              "      <td>0</td>\n",
              "      <td>0</td>\n",
              "      <td>0</td>\n",
              "      <td>0</td>\n",
              "      <td>1</td>\n",
              "      <td>0</td>\n",
              "      <td>0</td>\n",
              "      <td>0</td>\n",
              "      <td>0</td>\n",
              "      <td>0</td>\n",
              "      <td>0</td>\n",
              "      <td>0</td>\n",
              "      <td>0</td>\n",
              "      <td>0</td>\n",
              "      <td>0</td>\n",
              "      <td>1</td>\n",
              "      <td>0</td>\n",
              "      <td>0</td>\n",
              "      <td>0</td>\n",
              "      <td>0</td>\n",
              "      <td>0</td>\n",
              "      <td>0</td>\n",
              "      <td>0</td>\n",
              "      <td>1</td>\n",
              "      <td>0</td>\n",
              "      <td>0</td>\n",
              "      <td>0</td>\n",
              "      <td>0</td>\n",
              "      <td>1</td>\n",
              "      <td>4.3</td>\n",
              "    </tr>\n",
              "    <tr>\n",
              "      <th>4</th>\n",
              "      <td>5</td>\n",
              "      <td>396</td>\n",
              "      <td>6.50</td>\n",
              "      <td>175</td>\n",
              "      <td>4</td>\n",
              "      <td>2.2</td>\n",
              "      <td>84.23</td>\n",
              "      <td>160.4</td>\n",
              "      <td>64</td>\n",
              "      <td>3750</td>\n",
              "      <td>16</td>\n",
              "      <td>0</td>\n",
              "      <td>0</td>\n",
              "      <td>1</td>\n",
              "      <td>0</td>\n",
              "      <td>0</td>\n",
              "      <td>0</td>\n",
              "      <td>0</td>\n",
              "      <td>0</td>\n",
              "      <td>1</td>\n",
              "      <td>0</td>\n",
              "      <td>0</td>\n",
              "      <td>0</td>\n",
              "      <td>0</td>\n",
              "      <td>0</td>\n",
              "      <td>0</td>\n",
              "      <td>0</td>\n",
              "      <td>0</td>\n",
              "      <td>0</td>\n",
              "      <td>0</td>\n",
              "      <td>0</td>\n",
              "      <td>0</td>\n",
              "      <td>0</td>\n",
              "      <td>0</td>\n",
              "      <td>1</td>\n",
              "      <td>0</td>\n",
              "      <td>0</td>\n",
              "      <td>0</td>\n",
              "      <td>0</td>\n",
              "      <td>0</td>\n",
              "      <td>...</td>\n",
              "      <td>0</td>\n",
              "      <td>0</td>\n",
              "      <td>0</td>\n",
              "      <td>0</td>\n",
              "      <td>0</td>\n",
              "      <td>0</td>\n",
              "      <td>0</td>\n",
              "      <td>0</td>\n",
              "      <td>0</td>\n",
              "      <td>0</td>\n",
              "      <td>0</td>\n",
              "      <td>0</td>\n",
              "      <td>0</td>\n",
              "      <td>0</td>\n",
              "      <td>0</td>\n",
              "      <td>0</td>\n",
              "      <td>0</td>\n",
              "      <td>0</td>\n",
              "      <td>0</td>\n",
              "      <td>0</td>\n",
              "      <td>0</td>\n",
              "      <td>0</td>\n",
              "      <td>0</td>\n",
              "      <td>0</td>\n",
              "      <td>0</td>\n",
              "      <td>1</td>\n",
              "      <td>0</td>\n",
              "      <td>0</td>\n",
              "      <td>0</td>\n",
              "      <td>0</td>\n",
              "      <td>0</td>\n",
              "      <td>0</td>\n",
              "      <td>0</td>\n",
              "      <td>0</td>\n",
              "      <td>1</td>\n",
              "      <td>0</td>\n",
              "      <td>0</td>\n",
              "      <td>0</td>\n",
              "      <td>1</td>\n",
              "      <td>4.4</td>\n",
              "    </tr>\n",
              "  </tbody>\n",
              "</table>\n",
              "<p>5 rows × 88 columns</p>\n",
              "</div>"
            ],
            "text/plain": [
              "   PhoneId  Pixel Density  Screen Size  ...  Sim1_3G  Sim1_4G  Rating\n",
              "0        0            403         6.26  ...        0        1     4.5\n",
              "1        1            271         6.20  ...        0        1     4.5\n",
              "2        2            409         6.30  ...        0        1     4.4\n",
              "3        4            411         6.00  ...        0        1     4.3\n",
              "4        5            396         6.50  ...        0        1     4.4\n",
              "\n",
              "[5 rows x 88 columns]"
            ]
          },
          "metadata": {
            "tags": []
          },
          "execution_count": 470
        }
      ]
    },
    {
      "cell_type": "code",
      "metadata": {
        "id": "UpNz7kyfh7qp",
        "colab_type": "code",
        "colab": {
          "base_uri": "https://localhost:8080/",
          "height": 34
        },
        "outputId": "09eeda62-fac8-4e8f-d4dc-33a846c5931a"
      },
      "source": [
        "data.shape"
      ],
      "execution_count": 471,
      "outputs": [
        {
          "output_type": "execute_result",
          "data": {
            "text/plain": [
              "(341, 88)"
            ]
          },
          "metadata": {
            "tags": []
          },
          "execution_count": 471
        }
      ]
    },
    {
      "cell_type": "code",
      "metadata": {
        "id": "yhJiDhzViAgL",
        "colab_type": "code",
        "colab": {}
      },
      "source": [
        "X=data.drop('Rating',axis=1)\n",
        "#Y=data['Rating']"
      ],
      "execution_count": 472,
      "outputs": []
    },
    {
      "cell_type": "code",
      "metadata": {
        "id": "5JkynYbOiXKn",
        "colab_type": "code",
        "colab": {}
      },
      "source": [
        "Y=data['Rating'].values  #convert into numpy"
      ],
      "execution_count": 473,
      "outputs": []
    },
    {
      "cell_type": "code",
      "metadata": {
        "id": "M1DM_iv9ipww",
        "colab_type": "code",
        "colab": {
          "base_uri": "https://localhost:8080/",
          "height": 476
        },
        "outputId": "27f1727b-dc51-462c-c154-b944f336e515"
      },
      "source": [
        "Y"
      ],
      "execution_count": 474,
      "outputs": [
        {
          "output_type": "execute_result",
          "data": {
            "text/plain": [
              "array([4.5, 4.5, 4.4, 4.3, 4.4, 4.5, 4.3, 4.1, 4.3, 4.5, 4.5, 4. , 4.4,\n",
              "       4.4, 4.4, 4.4, 4.5, 4.4, 4.4, 4.4, 4.4, 4.5, 4.4, 4.3, 4.2, 4.3,\n",
              "       4.3, 4.6, 4.4, 4.5, 3.9, 4.2, 4.3, 4.2, 4.3, 4.3, 4.2, 4.4, 4.1,\n",
              "       3.8, 4.4, 4.6, 4.3, 4.5, 4.5, 4.2, 3.9, 4.3, 4. , 4.3, 4.3, 3.9,\n",
              "       4.2, 4.5, 4. , 4.6, 4.2, 2.8, 4.4, 4.3, 4.2, 4.4, 4.4, 4. , 4.4,\n",
              "       4.4, 4.1, 4.5, 4.3, 3.9, 4.3, 4.1, 4.1, 4.2, 3.4, 4.2, 4.6, 3.8,\n",
              "       4.3, 4.5, 4.2, 4.5, 4.5, 4. , 4.1, 4.4, 4.5, 4.1, 4.5, 4.3, 4.5,\n",
              "       3.9, 3.9, 4.4, 4.4, 4.4, 4. , 4.1, 4.1, 4.4, 4.3, 4.3, 4.2, 4.3,\n",
              "       3.4, 4.3, 4.3, 4.2, 4.6, 4.8, 4.4, 3.4, 3.7, 4.2, 4.3, 4.4, 4.3,\n",
              "       4.2, 4.1, 4.3, 4. , 3.9, 4.4, 4.4, 3.9, 3.1, 3.7, 4.2, 4.4, 4. ,\n",
              "       4. , 4.1, 4.2, 4.3, 4.2, 4.3, 4.1, 3.6, 4.1, 4. , 3.8, 3.7, 4.3,\n",
              "       4.1, 4.1, 4.5, 4. , 4.3, 3.6, 4.1, 4.5, 3.5, 4. , 4.3, 4.6, 3.5,\n",
              "       3.9, 4.1, 3.9, 3.8, 4.4, 4.3, 4. , 3.9, 4.4, 4.7, 3.9, 4.5, 3.7,\n",
              "       4. , 4.3, 4.1, 4.8, 4.1, 4. , 4.7, 4. , 4.1, 4. , 3.4, 4.1, 3.9,\n",
              "       3.1, 4.1, 3.7, 3.4, 3.9, 4.3, 4.1, 3.7, 3.8, 4. , 3.8, 4.6, 3.4,\n",
              "       3.3, 3.2, 3.5, 4.3, 4.1, 4. , 3.8, 4.3, 4.1, 4. , 3.8, 3.8, 3.9,\n",
              "       4.1, 3.7, 4.2, 4. , 4.2, 4.4, 4.1, 3.4, 4.2, 4.4, 3.9, 3.9, 4.4,\n",
              "       4.2, 4.5, 4.5, 4.2, 4. , 4.2, 3.5, 3.7, 4.3, 5. , 3.5, 4.4, 3.7,\n",
              "       4.3, 3.9, 4.3, 3.8, 3.8, 4.3, 5. , 4.1, 3. , 4.4, 3. , 4. , 4. ,\n",
              "       3.9, 3.9, 4.2, 2.8, 4.3, 3.3, 4.3, 4. , 4.2, 4.1, 4.2, 3.6, 3.5,\n",
              "       4.1, 4.6, 3.9, 4. , 3.8, 4.1, 2.5, 4.2, 3.7, 3.9, 4.1, 3. , 3.8,\n",
              "       4.6, 4.2, 3.4, 3.9, 4.5, 4.1, 3.3, 4.1, 4. , 3.3, 4.4, 3.8, 3.9,\n",
              "       3.6, 4.4, 4.1, 4.1, 4. , 3.5, 3. , 4.2, 4. , 3.9, 3.5, 3.4, 3.4,\n",
              "       4. , 3.6, 4. , 3.5, 4. , 4. , 3.7, 4.6, 4. , 4.1, 4. , 3.5, 4.1,\n",
              "       3.7, 4.4, 4.3, 4.1, 3.9, 3.4, 3.3, 3.9, 4. , 4.4, 4.5, 4.2, 3.8,\n",
              "       3.7, 4.2, 4.1, 4. , 3.9, 3.7, 4.2, 4. , 3.6, 3.6, 4.4, 3.8, 3.9,\n",
              "       4.1, 3.6, 4.3])"
            ]
          },
          "metadata": {
            "tags": []
          },
          "execution_count": 474
        }
      ]
    },
    {
      "cell_type": "code",
      "metadata": {
        "id": "Mn178a1ViqiT",
        "colab_type": "code",
        "colab": {}
      },
      "source": [
        "threshold=4.2\n",
        "data['class']=(data['Rating']>=threshold)"
      ],
      "execution_count": 475,
      "outputs": []
    },
    {
      "cell_type": "code",
      "metadata": {
        "id": "zrDnkIHWkEPY",
        "colab_type": "code",
        "colab": {
          "base_uri": "https://localhost:8080/",
          "height": 119
        },
        "outputId": "e5a10c2f-3da9-421b-d1ea-035584d467b5"
      },
      "source": [
        "data['class'].head()"
      ],
      "execution_count": 476,
      "outputs": [
        {
          "output_type": "execute_result",
          "data": {
            "text/plain": [
              "0    True\n",
              "1    True\n",
              "2    True\n",
              "3    True\n",
              "4    True\n",
              "Name: class, dtype: bool"
            ]
          },
          "metadata": {
            "tags": []
          },
          "execution_count": 476
        }
      ]
    },
    {
      "cell_type": "code",
      "metadata": {
        "id": "3DEVoIeakJK7",
        "colab_type": "code",
        "colab": {}
      },
      "source": [
        "data['class']=(data['Rating']>=threshold).astype(np.int) #convert class into number"
      ],
      "execution_count": 477,
      "outputs": []
    },
    {
      "cell_type": "code",
      "metadata": {
        "id": "EwWb2yHgkaV4",
        "colab_type": "code",
        "colab": {
          "base_uri": "https://localhost:8080/",
          "height": 119
        },
        "outputId": "1bb1cbca-962e-451f-e513-c7c902e4923c"
      },
      "source": [
        "data['class'].head()"
      ],
      "execution_count": 478,
      "outputs": [
        {
          "output_type": "execute_result",
          "data": {
            "text/plain": [
              "0    1\n",
              "1    1\n",
              "2    1\n",
              "3    1\n",
              "4    1\n",
              "Name: class, dtype: int64"
            ]
          },
          "metadata": {
            "tags": []
          },
          "execution_count": 478
        }
      ]
    },
    {
      "cell_type": "code",
      "metadata": {
        "id": "IF9iSjd0khub",
        "colab_type": "code",
        "colab": {
          "base_uri": "https://localhost:8080/",
          "height": 68
        },
        "outputId": "a783e7f6-4e76-41e7-e8ea-c4074e266c44"
      },
      "source": [
        "data['class'].value_counts()"
      ],
      "execution_count": 479,
      "outputs": [
        {
          "output_type": "execute_result",
          "data": {
            "text/plain": [
              "0    182\n",
              "1    159\n",
              "Name: class, dtype: int64"
            ]
          },
          "metadata": {
            "tags": []
          },
          "execution_count": 479
        }
      ]
    },
    {
      "cell_type": "code",
      "metadata": {
        "id": "-dd-PAUXkuxy",
        "colab_type": "code",
        "colab": {
          "base_uri": "https://localhost:8080/",
          "height": 68
        },
        "outputId": "eb5f744a-69ee-478e-8f03-ee02856ba805"
      },
      "source": [
        "#threshold=4.2\n",
        "data['class'].value_counts(normalize=True)"
      ],
      "execution_count": 480,
      "outputs": [
        {
          "output_type": "execute_result",
          "data": {
            "text/plain": [
              "0    0.533724\n",
              "1    0.466276\n",
              "Name: class, dtype: float64"
            ]
          },
          "metadata": {
            "tags": []
          },
          "execution_count": 480
        }
      ]
    },
    {
      "cell_type": "code",
      "metadata": {
        "id": "RLLwsrlIlIoe",
        "colab_type": "code",
        "colab": {}
      },
      "source": [
        "Y_binarised=data['class'].values"
      ],
      "execution_count": 481,
      "outputs": []
    },
    {
      "cell_type": "code",
      "metadata": {
        "id": "qqtjTv0nlmh6",
        "colab_type": "code",
        "colab": {
          "base_uri": "https://localhost:8080/",
          "height": 289
        },
        "outputId": "bbbc9f73-a017-4b37-cb3e-19a3493fe1fc"
      },
      "source": [
        "Y_binarised"
      ],
      "execution_count": 482,
      "outputs": [
        {
          "output_type": "execute_result",
          "data": {
            "text/plain": [
              "array([1, 1, 1, 1, 1, 1, 1, 0, 1, 1, 1, 0, 1, 1, 1, 1, 1, 1, 1, 1, 1, 1,\n",
              "       1, 1, 1, 1, 1, 1, 1, 1, 0, 1, 1, 1, 1, 1, 1, 1, 0, 0, 1, 1, 1, 1,\n",
              "       1, 1, 0, 1, 0, 1, 1, 0, 1, 1, 0, 1, 1, 0, 1, 1, 1, 1, 1, 0, 1, 1,\n",
              "       0, 1, 1, 0, 1, 0, 0, 1, 0, 1, 1, 0, 1, 1, 1, 1, 1, 0, 0, 1, 1, 0,\n",
              "       1, 1, 1, 0, 0, 1, 1, 1, 0, 0, 0, 1, 1, 1, 1, 1, 0, 1, 1, 1, 1, 1,\n",
              "       1, 0, 0, 1, 1, 1, 1, 1, 0, 1, 0, 0, 1, 1, 0, 0, 0, 1, 1, 0, 0, 0,\n",
              "       1, 1, 1, 1, 0, 0, 0, 0, 0, 0, 1, 0, 0, 1, 0, 1, 0, 0, 1, 0, 0, 1,\n",
              "       1, 0, 0, 0, 0, 0, 1, 1, 0, 0, 1, 1, 0, 1, 0, 0, 1, 0, 1, 0, 0, 1,\n",
              "       0, 0, 0, 0, 0, 0, 0, 0, 0, 0, 0, 1, 0, 0, 0, 0, 0, 1, 0, 0, 0, 0,\n",
              "       1, 0, 0, 0, 1, 0, 0, 0, 0, 0, 0, 0, 1, 0, 1, 1, 0, 0, 1, 1, 0, 0,\n",
              "       1, 1, 1, 1, 1, 0, 1, 0, 0, 1, 1, 0, 1, 0, 1, 0, 1, 0, 0, 1, 1, 0,\n",
              "       0, 1, 0, 0, 0, 0, 0, 1, 0, 1, 0, 1, 0, 1, 0, 1, 0, 0, 0, 1, 0, 0,\n",
              "       0, 0, 0, 1, 0, 0, 0, 0, 0, 1, 1, 0, 0, 1, 0, 0, 0, 0, 0, 1, 0, 0,\n",
              "       0, 1, 0, 0, 0, 0, 0, 1, 0, 0, 0, 0, 0, 0, 0, 0, 0, 0, 0, 0, 1, 0,\n",
              "       0, 0, 0, 0, 0, 1, 1, 0, 0, 0, 0, 0, 0, 1, 1, 1, 0, 0, 1, 0, 0, 0,\n",
              "       0, 1, 0, 0, 0, 1, 0, 0, 0, 0, 1])"
            ]
          },
          "metadata": {
            "tags": []
          },
          "execution_count": 482
        }
      ]
    },
    {
      "cell_type": "code",
      "metadata": {
        "id": "lUzNp8jeloht",
        "colab_type": "code",
        "colab": {}
      },
      "source": [
        "X_train,X_test,Y_train,Y_test=train_test_split(X,Y,random_state=0, stratify=Y_binarised)"
      ],
      "execution_count": 483,
      "outputs": []
    },
    {
      "cell_type": "code",
      "metadata": {
        "id": "phVubUEwlVJe",
        "colab_type": "code",
        "colab": {
          "base_uri": "https://localhost:8080/",
          "height": 34
        },
        "outputId": "7a30ec55-e09f-4f98-8133-2b417e952409"
      },
      "source": [
        "print(X_train.shape,X_test.shape,Y_train.shape,Y_test.shape)"
      ],
      "execution_count": 484,
      "outputs": [
        {
          "output_type": "stream",
          "text": [
            "(255, 87) (86, 87) (255,) (86,)\n"
          ],
          "name": "stdout"
        }
      ]
    },
    {
      "cell_type": "code",
      "metadata": {
        "id": "37j_iXKAoP7U",
        "colab_type": "code",
        "colab": {
          "base_uri": "https://localhost:8080/",
          "height": 228
        },
        "outputId": "5e3c3a60-cbb6-4317-b5fb-265e4a4bee3f"
      },
      "source": [
        "X_train.head(2)"
      ],
      "execution_count": 485,
      "outputs": [
        {
          "output_type": "execute_result",
          "data": {
            "text/html": [
              "<div>\n",
              "<style scoped>\n",
              "    .dataframe tbody tr th:only-of-type {\n",
              "        vertical-align: middle;\n",
              "    }\n",
              "\n",
              "    .dataframe tbody tr th {\n",
              "        vertical-align: top;\n",
              "    }\n",
              "\n",
              "    .dataframe thead th {\n",
              "        text-align: right;\n",
              "    }\n",
              "</style>\n",
              "<table border=\"1\" class=\"dataframe\">\n",
              "  <thead>\n",
              "    <tr style=\"text-align: right;\">\n",
              "      <th></th>\n",
              "      <th>PhoneId</th>\n",
              "      <th>Pixel Density</th>\n",
              "      <th>Screen Size</th>\n",
              "      <th>Weight</th>\n",
              "      <th>RAM</th>\n",
              "      <th>Processor_frequency</th>\n",
              "      <th>Screen to Body Ratio (calculated)</th>\n",
              "      <th>Height</th>\n",
              "      <th>Internal Memory</th>\n",
              "      <th>Capacity</th>\n",
              "      <th>Resolution</th>\n",
              "      <th>SIM 2_2G</th>\n",
              "      <th>SIM 2_3G</th>\n",
              "      <th>SIM 2_4G</th>\n",
              "      <th>SIM 2_Other</th>\n",
              "      <th>Num_cores_312</th>\n",
              "      <th>Num_cores_Deca</th>\n",
              "      <th>Num_cores_Dual</th>\n",
              "      <th>Num_cores_Hexa</th>\n",
              "      <th>Num_cores_Octa</th>\n",
              "      <th>Num_cores_Other</th>\n",
              "      <th>Num_cores_Quad</th>\n",
              "      <th>Num_cores_Tru-Octa</th>\n",
              "      <th>Brand_10.or</th>\n",
              "      <th>Brand_Apple</th>\n",
              "      <th>Brand_Asus</th>\n",
              "      <th>Brand_Billion</th>\n",
              "      <th>Brand_Blackberry</th>\n",
              "      <th>Brand_Comio</th>\n",
              "      <th>Brand_Coolpad</th>\n",
              "      <th>Brand_Do</th>\n",
              "      <th>Brand_Gionee</th>\n",
              "      <th>Brand_Google</th>\n",
              "      <th>Brand_HTC</th>\n",
              "      <th>Brand_Honor</th>\n",
              "      <th>Brand_Huawei</th>\n",
              "      <th>Brand_InFocus</th>\n",
              "      <th>Brand_Infinix</th>\n",
              "      <th>Brand_Intex</th>\n",
              "      <th>Brand_Itel</th>\n",
              "      <th>...</th>\n",
              "      <th>Brand_Lyf</th>\n",
              "      <th>Brand_Meizu</th>\n",
              "      <th>Brand_Micromax</th>\n",
              "      <th>Brand_Mobiistar</th>\n",
              "      <th>Brand_Moto</th>\n",
              "      <th>Brand_Motorola</th>\n",
              "      <th>Brand_Nokia</th>\n",
              "      <th>Brand_Nubia</th>\n",
              "      <th>Brand_OPPO</th>\n",
              "      <th>Brand_OnePlus</th>\n",
              "      <th>Brand_Oppo</th>\n",
              "      <th>Brand_Panasonic</th>\n",
              "      <th>Brand_Razer</th>\n",
              "      <th>Brand_Realme</th>\n",
              "      <th>Brand_Reliance</th>\n",
              "      <th>Brand_Samsung</th>\n",
              "      <th>Brand_Sony</th>\n",
              "      <th>Brand_Spice</th>\n",
              "      <th>Brand_Tecno</th>\n",
              "      <th>Brand_Ulefone</th>\n",
              "      <th>Brand_VOTO</th>\n",
              "      <th>Brand_Vivo</th>\n",
              "      <th>Brand_Xiaomi</th>\n",
              "      <th>Brand_Xiaomi Poco</th>\n",
              "      <th>Brand_Yu</th>\n",
              "      <th>Brand_iVooMi</th>\n",
              "      <th>os_name_Android</th>\n",
              "      <th>os_name_Blackberry</th>\n",
              "      <th>os_name_KAI</th>\n",
              "      <th>os_name_Nokia</th>\n",
              "      <th>os_name_Other</th>\n",
              "      <th>os_name_Tizen</th>\n",
              "      <th>os_name_iOS</th>\n",
              "      <th>SIM Slot(s)_Dual SIM, GSM+CDMA</th>\n",
              "      <th>SIM Slot(s)_Dual SIM, GSM+GSM</th>\n",
              "      <th>SIM Slot(s)_Dual SIM, GSM+GSM, Dual VoLTE</th>\n",
              "      <th>SIM Slot(s)_Single SIM, GSM</th>\n",
              "      <th>Sim1_2G</th>\n",
              "      <th>Sim1_3G</th>\n",
              "      <th>Sim1_4G</th>\n",
              "    </tr>\n",
              "  </thead>\n",
              "  <tbody>\n",
              "    <tr>\n",
              "      <th>293</th>\n",
              "      <td>408</td>\n",
              "      <td>267</td>\n",
              "      <td>5.50</td>\n",
              "      <td>163</td>\n",
              "      <td>4</td>\n",
              "      <td>1.5</td>\n",
              "      <td>71.88</td>\n",
              "      <td>151.5</td>\n",
              "      <td>32</td>\n",
              "      <td>3020</td>\n",
              "      <td>8</td>\n",
              "      <td>0</td>\n",
              "      <td>0</td>\n",
              "      <td>1</td>\n",
              "      <td>0</td>\n",
              "      <td>0</td>\n",
              "      <td>0</td>\n",
              "      <td>0</td>\n",
              "      <td>0</td>\n",
              "      <td>1</td>\n",
              "      <td>0</td>\n",
              "      <td>0</td>\n",
              "      <td>0</td>\n",
              "      <td>0</td>\n",
              "      <td>0</td>\n",
              "      <td>0</td>\n",
              "      <td>0</td>\n",
              "      <td>0</td>\n",
              "      <td>0</td>\n",
              "      <td>0</td>\n",
              "      <td>0</td>\n",
              "      <td>0</td>\n",
              "      <td>0</td>\n",
              "      <td>0</td>\n",
              "      <td>0</td>\n",
              "      <td>0</td>\n",
              "      <td>0</td>\n",
              "      <td>0</td>\n",
              "      <td>0</td>\n",
              "      <td>0</td>\n",
              "      <td>...</td>\n",
              "      <td>0</td>\n",
              "      <td>0</td>\n",
              "      <td>0</td>\n",
              "      <td>0</td>\n",
              "      <td>0</td>\n",
              "      <td>0</td>\n",
              "      <td>0</td>\n",
              "      <td>0</td>\n",
              "      <td>0</td>\n",
              "      <td>0</td>\n",
              "      <td>0</td>\n",
              "      <td>0</td>\n",
              "      <td>0</td>\n",
              "      <td>0</td>\n",
              "      <td>0</td>\n",
              "      <td>0</td>\n",
              "      <td>0</td>\n",
              "      <td>0</td>\n",
              "      <td>0</td>\n",
              "      <td>0</td>\n",
              "      <td>0</td>\n",
              "      <td>0</td>\n",
              "      <td>0</td>\n",
              "      <td>0</td>\n",
              "      <td>0</td>\n",
              "      <td>0</td>\n",
              "      <td>1</td>\n",
              "      <td>0</td>\n",
              "      <td>0</td>\n",
              "      <td>0</td>\n",
              "      <td>0</td>\n",
              "      <td>0</td>\n",
              "      <td>0</td>\n",
              "      <td>0</td>\n",
              "      <td>1</td>\n",
              "      <td>0</td>\n",
              "      <td>0</td>\n",
              "      <td>0</td>\n",
              "      <td>0</td>\n",
              "      <td>1</td>\n",
              "    </tr>\n",
              "    <tr>\n",
              "      <th>59</th>\n",
              "      <td>77</td>\n",
              "      <td>270</td>\n",
              "      <td>6.22</td>\n",
              "      <td>152</td>\n",
              "      <td>4</td>\n",
              "      <td>2.0</td>\n",
              "      <td>82.33</td>\n",
              "      <td>155.2</td>\n",
              "      <td>64</td>\n",
              "      <td>3260</td>\n",
              "      <td>8</td>\n",
              "      <td>0</td>\n",
              "      <td>0</td>\n",
              "      <td>1</td>\n",
              "      <td>0</td>\n",
              "      <td>0</td>\n",
              "      <td>0</td>\n",
              "      <td>0</td>\n",
              "      <td>0</td>\n",
              "      <td>1</td>\n",
              "      <td>0</td>\n",
              "      <td>0</td>\n",
              "      <td>0</td>\n",
              "      <td>0</td>\n",
              "      <td>0</td>\n",
              "      <td>0</td>\n",
              "      <td>0</td>\n",
              "      <td>0</td>\n",
              "      <td>0</td>\n",
              "      <td>0</td>\n",
              "      <td>0</td>\n",
              "      <td>0</td>\n",
              "      <td>0</td>\n",
              "      <td>0</td>\n",
              "      <td>0</td>\n",
              "      <td>0</td>\n",
              "      <td>0</td>\n",
              "      <td>0</td>\n",
              "      <td>0</td>\n",
              "      <td>0</td>\n",
              "      <td>...</td>\n",
              "      <td>0</td>\n",
              "      <td>0</td>\n",
              "      <td>0</td>\n",
              "      <td>0</td>\n",
              "      <td>0</td>\n",
              "      <td>0</td>\n",
              "      <td>0</td>\n",
              "      <td>0</td>\n",
              "      <td>0</td>\n",
              "      <td>0</td>\n",
              "      <td>0</td>\n",
              "      <td>0</td>\n",
              "      <td>0</td>\n",
              "      <td>0</td>\n",
              "      <td>0</td>\n",
              "      <td>0</td>\n",
              "      <td>0</td>\n",
              "      <td>0</td>\n",
              "      <td>0</td>\n",
              "      <td>0</td>\n",
              "      <td>0</td>\n",
              "      <td>1</td>\n",
              "      <td>0</td>\n",
              "      <td>0</td>\n",
              "      <td>0</td>\n",
              "      <td>0</td>\n",
              "      <td>1</td>\n",
              "      <td>0</td>\n",
              "      <td>0</td>\n",
              "      <td>0</td>\n",
              "      <td>0</td>\n",
              "      <td>0</td>\n",
              "      <td>0</td>\n",
              "      <td>0</td>\n",
              "      <td>1</td>\n",
              "      <td>0</td>\n",
              "      <td>0</td>\n",
              "      <td>0</td>\n",
              "      <td>0</td>\n",
              "      <td>1</td>\n",
              "    </tr>\n",
              "  </tbody>\n",
              "</table>\n",
              "<p>2 rows × 87 columns</p>\n",
              "</div>"
            ],
            "text/plain": [
              "     PhoneId  Pixel Density  Screen Size  ...  Sim1_2G  Sim1_3G  Sim1_4G\n",
              "293      408            267         5.50  ...        0        0        1\n",
              "59        77            270         6.22  ...        0        0        1\n",
              "\n",
              "[2 rows x 87 columns]"
            ]
          },
          "metadata": {
            "tags": []
          },
          "execution_count": 485
        }
      ]
    },
    {
      "cell_type": "code",
      "metadata": {
        "id": "oWwgw68ZohKX",
        "colab_type": "code",
        "colab": {
          "base_uri": "https://localhost:8080/",
          "height": 228
        },
        "outputId": "2b4ff014-ef22-4025-8e1e-d5bbf29289cc"
      },
      "source": [
        "X_test.head(2)"
      ],
      "execution_count": 486,
      "outputs": [
        {
          "output_type": "execute_result",
          "data": {
            "text/html": [
              "<div>\n",
              "<style scoped>\n",
              "    .dataframe tbody tr th:only-of-type {\n",
              "        vertical-align: middle;\n",
              "    }\n",
              "\n",
              "    .dataframe tbody tr th {\n",
              "        vertical-align: top;\n",
              "    }\n",
              "\n",
              "    .dataframe thead th {\n",
              "        text-align: right;\n",
              "    }\n",
              "</style>\n",
              "<table border=\"1\" class=\"dataframe\">\n",
              "  <thead>\n",
              "    <tr style=\"text-align: right;\">\n",
              "      <th></th>\n",
              "      <th>PhoneId</th>\n",
              "      <th>Pixel Density</th>\n",
              "      <th>Screen Size</th>\n",
              "      <th>Weight</th>\n",
              "      <th>RAM</th>\n",
              "      <th>Processor_frequency</th>\n",
              "      <th>Screen to Body Ratio (calculated)</th>\n",
              "      <th>Height</th>\n",
              "      <th>Internal Memory</th>\n",
              "      <th>Capacity</th>\n",
              "      <th>Resolution</th>\n",
              "      <th>SIM 2_2G</th>\n",
              "      <th>SIM 2_3G</th>\n",
              "      <th>SIM 2_4G</th>\n",
              "      <th>SIM 2_Other</th>\n",
              "      <th>Num_cores_312</th>\n",
              "      <th>Num_cores_Deca</th>\n",
              "      <th>Num_cores_Dual</th>\n",
              "      <th>Num_cores_Hexa</th>\n",
              "      <th>Num_cores_Octa</th>\n",
              "      <th>Num_cores_Other</th>\n",
              "      <th>Num_cores_Quad</th>\n",
              "      <th>Num_cores_Tru-Octa</th>\n",
              "      <th>Brand_10.or</th>\n",
              "      <th>Brand_Apple</th>\n",
              "      <th>Brand_Asus</th>\n",
              "      <th>Brand_Billion</th>\n",
              "      <th>Brand_Blackberry</th>\n",
              "      <th>Brand_Comio</th>\n",
              "      <th>Brand_Coolpad</th>\n",
              "      <th>Brand_Do</th>\n",
              "      <th>Brand_Gionee</th>\n",
              "      <th>Brand_Google</th>\n",
              "      <th>Brand_HTC</th>\n",
              "      <th>Brand_Honor</th>\n",
              "      <th>Brand_Huawei</th>\n",
              "      <th>Brand_InFocus</th>\n",
              "      <th>Brand_Infinix</th>\n",
              "      <th>Brand_Intex</th>\n",
              "      <th>Brand_Itel</th>\n",
              "      <th>...</th>\n",
              "      <th>Brand_Lyf</th>\n",
              "      <th>Brand_Meizu</th>\n",
              "      <th>Brand_Micromax</th>\n",
              "      <th>Brand_Mobiistar</th>\n",
              "      <th>Brand_Moto</th>\n",
              "      <th>Brand_Motorola</th>\n",
              "      <th>Brand_Nokia</th>\n",
              "      <th>Brand_Nubia</th>\n",
              "      <th>Brand_OPPO</th>\n",
              "      <th>Brand_OnePlus</th>\n",
              "      <th>Brand_Oppo</th>\n",
              "      <th>Brand_Panasonic</th>\n",
              "      <th>Brand_Razer</th>\n",
              "      <th>Brand_Realme</th>\n",
              "      <th>Brand_Reliance</th>\n",
              "      <th>Brand_Samsung</th>\n",
              "      <th>Brand_Sony</th>\n",
              "      <th>Brand_Spice</th>\n",
              "      <th>Brand_Tecno</th>\n",
              "      <th>Brand_Ulefone</th>\n",
              "      <th>Brand_VOTO</th>\n",
              "      <th>Brand_Vivo</th>\n",
              "      <th>Brand_Xiaomi</th>\n",
              "      <th>Brand_Xiaomi Poco</th>\n",
              "      <th>Brand_Yu</th>\n",
              "      <th>Brand_iVooMi</th>\n",
              "      <th>os_name_Android</th>\n",
              "      <th>os_name_Blackberry</th>\n",
              "      <th>os_name_KAI</th>\n",
              "      <th>os_name_Nokia</th>\n",
              "      <th>os_name_Other</th>\n",
              "      <th>os_name_Tizen</th>\n",
              "      <th>os_name_iOS</th>\n",
              "      <th>SIM Slot(s)_Dual SIM, GSM+CDMA</th>\n",
              "      <th>SIM Slot(s)_Dual SIM, GSM+GSM</th>\n",
              "      <th>SIM Slot(s)_Dual SIM, GSM+GSM, Dual VoLTE</th>\n",
              "      <th>SIM Slot(s)_Single SIM, GSM</th>\n",
              "      <th>Sim1_2G</th>\n",
              "      <th>Sim1_3G</th>\n",
              "      <th>Sim1_4G</th>\n",
              "    </tr>\n",
              "  </thead>\n",
              "  <tbody>\n",
              "    <tr>\n",
              "      <th>270</th>\n",
              "      <td>374</td>\n",
              "      <td>515</td>\n",
              "      <td>5.7</td>\n",
              "      <td>174</td>\n",
              "      <td>4</td>\n",
              "      <td>2.15</td>\n",
              "      <td>71.73</td>\n",
              "      <td>159.5</td>\n",
              "      <td>64</td>\n",
              "      <td>3200</td>\n",
              "      <td>5</td>\n",
              "      <td>0</td>\n",
              "      <td>0</td>\n",
              "      <td>1</td>\n",
              "      <td>0</td>\n",
              "      <td>0</td>\n",
              "      <td>0</td>\n",
              "      <td>0</td>\n",
              "      <td>0</td>\n",
              "      <td>0</td>\n",
              "      <td>0</td>\n",
              "      <td>1</td>\n",
              "      <td>0</td>\n",
              "      <td>0</td>\n",
              "      <td>0</td>\n",
              "      <td>0</td>\n",
              "      <td>0</td>\n",
              "      <td>0</td>\n",
              "      <td>0</td>\n",
              "      <td>0</td>\n",
              "      <td>0</td>\n",
              "      <td>0</td>\n",
              "      <td>0</td>\n",
              "      <td>0</td>\n",
              "      <td>0</td>\n",
              "      <td>0</td>\n",
              "      <td>0</td>\n",
              "      <td>0</td>\n",
              "      <td>0</td>\n",
              "      <td>0</td>\n",
              "      <td>...</td>\n",
              "      <td>0</td>\n",
              "      <td>0</td>\n",
              "      <td>0</td>\n",
              "      <td>0</td>\n",
              "      <td>0</td>\n",
              "      <td>0</td>\n",
              "      <td>0</td>\n",
              "      <td>0</td>\n",
              "      <td>0</td>\n",
              "      <td>0</td>\n",
              "      <td>0</td>\n",
              "      <td>0</td>\n",
              "      <td>0</td>\n",
              "      <td>0</td>\n",
              "      <td>0</td>\n",
              "      <td>0</td>\n",
              "      <td>0</td>\n",
              "      <td>0</td>\n",
              "      <td>0</td>\n",
              "      <td>0</td>\n",
              "      <td>0</td>\n",
              "      <td>0</td>\n",
              "      <td>0</td>\n",
              "      <td>0</td>\n",
              "      <td>0</td>\n",
              "      <td>0</td>\n",
              "      <td>1</td>\n",
              "      <td>0</td>\n",
              "      <td>0</td>\n",
              "      <td>0</td>\n",
              "      <td>0</td>\n",
              "      <td>0</td>\n",
              "      <td>0</td>\n",
              "      <td>0</td>\n",
              "      <td>1</td>\n",
              "      <td>0</td>\n",
              "      <td>0</td>\n",
              "      <td>0</td>\n",
              "      <td>0</td>\n",
              "      <td>1</td>\n",
              "    </tr>\n",
              "    <tr>\n",
              "      <th>40</th>\n",
              "      <td>57</td>\n",
              "      <td>409</td>\n",
              "      <td>6.3</td>\n",
              "      <td>168</td>\n",
              "      <td>4</td>\n",
              "      <td>2.10</td>\n",
              "      <td>83.68</td>\n",
              "      <td>157.0</td>\n",
              "      <td>64</td>\n",
              "      <td>3500</td>\n",
              "      <td>25</td>\n",
              "      <td>0</td>\n",
              "      <td>0</td>\n",
              "      <td>1</td>\n",
              "      <td>0</td>\n",
              "      <td>0</td>\n",
              "      <td>0</td>\n",
              "      <td>0</td>\n",
              "      <td>0</td>\n",
              "      <td>1</td>\n",
              "      <td>0</td>\n",
              "      <td>0</td>\n",
              "      <td>0</td>\n",
              "      <td>0</td>\n",
              "      <td>0</td>\n",
              "      <td>0</td>\n",
              "      <td>0</td>\n",
              "      <td>0</td>\n",
              "      <td>0</td>\n",
              "      <td>0</td>\n",
              "      <td>0</td>\n",
              "      <td>0</td>\n",
              "      <td>0</td>\n",
              "      <td>0</td>\n",
              "      <td>0</td>\n",
              "      <td>0</td>\n",
              "      <td>0</td>\n",
              "      <td>0</td>\n",
              "      <td>0</td>\n",
              "      <td>0</td>\n",
              "      <td>...</td>\n",
              "      <td>0</td>\n",
              "      <td>0</td>\n",
              "      <td>0</td>\n",
              "      <td>0</td>\n",
              "      <td>0</td>\n",
              "      <td>0</td>\n",
              "      <td>0</td>\n",
              "      <td>0</td>\n",
              "      <td>0</td>\n",
              "      <td>0</td>\n",
              "      <td>0</td>\n",
              "      <td>0</td>\n",
              "      <td>0</td>\n",
              "      <td>1</td>\n",
              "      <td>0</td>\n",
              "      <td>0</td>\n",
              "      <td>0</td>\n",
              "      <td>0</td>\n",
              "      <td>0</td>\n",
              "      <td>0</td>\n",
              "      <td>0</td>\n",
              "      <td>0</td>\n",
              "      <td>0</td>\n",
              "      <td>0</td>\n",
              "      <td>0</td>\n",
              "      <td>0</td>\n",
              "      <td>1</td>\n",
              "      <td>0</td>\n",
              "      <td>0</td>\n",
              "      <td>0</td>\n",
              "      <td>0</td>\n",
              "      <td>0</td>\n",
              "      <td>0</td>\n",
              "      <td>0</td>\n",
              "      <td>0</td>\n",
              "      <td>1</td>\n",
              "      <td>0</td>\n",
              "      <td>0</td>\n",
              "      <td>0</td>\n",
              "      <td>1</td>\n",
              "    </tr>\n",
              "  </tbody>\n",
              "</table>\n",
              "<p>2 rows × 87 columns</p>\n",
              "</div>"
            ],
            "text/plain": [
              "     PhoneId  Pixel Density  Screen Size  ...  Sim1_2G  Sim1_3G  Sim1_4G\n",
              "270      374            515          5.7  ...        0        0        1\n",
              "40        57            409          6.3  ...        0        0        1\n",
              "\n",
              "[2 rows x 87 columns]"
            ]
          },
          "metadata": {
            "tags": []
          },
          "execution_count": 486
        }
      ]
    },
    {
      "cell_type": "code",
      "metadata": {
        "id": "ljNzT5pIpKah",
        "colab_type": "code",
        "colab": {
          "base_uri": "https://localhost:8080/",
          "height": 357
        },
        "outputId": "6e502ddf-4146-4acb-d007-7457b3f05384"
      },
      "source": [
        "Y_train"
      ],
      "execution_count": 487,
      "outputs": [
        {
          "output_type": "execute_result",
          "data": {
            "text/plain": [
              "array([4.2, 4.3, 4.3, 4. , 4.5, 4.1, 4.2, 4.3, 4.1, 4.4, 4.3, 3. , 4.5,\n",
              "       4.3, 4.8, 4.4, 4. , 4.4, 4.6, 4.2, 4.5, 4.3, 3.3, 4.3, 3.4, 4.4,\n",
              "       4.3, 4.1, 4.3, 4.4, 4. , 4.5, 3.1, 3.5, 4.2, 3.6, 4.1, 3.8, 4.2,\n",
              "       4. , 4. , 3.9, 4.1, 3.9, 4.3, 3.7, 4.2, 4.1, 4.3, 4.1, 4.3, 4.4,\n",
              "       4.2, 3.8, 4. , 4.2, 4.4, 4.3, 4.4, 3.8, 3.9, 4.4, 3.9, 3.9, 4.2,\n",
              "       3.9, 4.5, 3.9, 3.4, 4.5, 4.4, 4. , 4.5, 4.1, 4.4, 4.5, 3.9, 4.3,\n",
              "       4.4, 4.3, 4.4, 3.9, 4. , 4.1, 4. , 4.2, 3.9, 4. , 3. , 4.3, 4.3,\n",
              "       4.7, 3.4, 3.3, 3.5, 4.1, 3.8, 4.2, 5. , 4. , 4.3, 4.2, 4.1, 4.1,\n",
              "       4.2, 4.2, 3.8, 4.4, 4. , 3.7, 4.1, 4. , 4.2, 3.7, 4.5, 4. , 4.1,\n",
              "       3.5, 4.3, 4. , 4.5, 3.9, 4.2, 3.8, 4.3, 3. , 3.4, 4.3, 3.4, 3.9,\n",
              "       4.3, 4.1, 4.1, 3.9, 4.4, 4. , 4.4, 4.2, 3.7, 3.8, 4.1, 4.4, 4.2,\n",
              "       3.8, 4.5, 4.7, 3.9, 4.2, 4.3, 4. , 3.5, 3.9, 4.4, 4.1, 4.3, 2.8,\n",
              "       4.5, 4.1, 4.2, 3.7, 3.9, 4. , 3.8, 4.4, 4. , 2.5, 4. , 4.2, 3.7,\n",
              "       4.1, 4.1, 4. , 4.3, 4.3, 4.4, 4.1, 4. , 4. , 4.4, 4.4, 3.9, 3.7,\n",
              "       4.4, 3.7, 4.6, 4. , 4.3, 3.8, 4.5, 4.3, 4.3, 3.9, 4.1, 3.7, 4.2,\n",
              "       3.7, 4. , 4.3, 3.6, 3.8, 3.6, 3.8, 4.3, 3.7, 4. , 4.3, 4.1, 4.3,\n",
              "       4.5, 3.9, 4.1, 3.9, 4.1, 4.4, 3.8, 4.3, 4.2, 4.5, 3.9, 4.5, 4.1,\n",
              "       3.4, 3.9, 4.2, 4.1, 4.2, 4.2, 4.4, 3.6, 4.5, 4. , 3.4, 4. , 4.1,\n",
              "       3.9, 4.5, 3.8, 4.6, 3.5, 4.6, 4.4, 3.7, 4.4, 4. , 4.4, 4.4, 4.4,\n",
              "       3.7, 3.9, 3.3, 3.8, 4.5, 3.5, 4.6, 4.6])"
            ]
          },
          "metadata": {
            "tags": []
          },
          "execution_count": 487
        }
      ]
    },
    {
      "cell_type": "code",
      "metadata": {
        "id": "Fb1dAYvHpNO3",
        "colab_type": "code",
        "colab": {}
      },
      "source": [
        "scaler=StandardScaler()"
      ],
      "execution_count": 488,
      "outputs": []
    },
    {
      "cell_type": "code",
      "metadata": {
        "id": "K7IfY2JfrRdA",
        "colab_type": "code",
        "colab": {}
      },
      "source": [
        "X_scaled_train=scaler.fit_transform(X_train)\n",
        "X_scaled_test=scaler.transform(X_test)"
      ],
      "execution_count": 489,
      "outputs": []
    },
    {
      "cell_type": "code",
      "metadata": {
        "id": "dZRTs0YhxEFp",
        "colab_type": "code",
        "colab": {}
      },
      "source": [
        "minmax_scaler=MinMaxScaler()"
      ],
      "execution_count": 490,
      "outputs": []
    },
    {
      "cell_type": "code",
      "metadata": {
        "id": "yr6E6qjIrsTy",
        "colab_type": "code",
        "colab": {}
      },
      "source": [
        "Y_scaled_train=minmax_scaler.fit_transform(Y_train.reshape(-1,1))"
      ],
      "execution_count": 491,
      "outputs": []
    },
    {
      "cell_type": "code",
      "metadata": {
        "id": "NhLe3Ahywujh",
        "colab_type": "code",
        "colab": {
          "base_uri": "https://localhost:8080/",
          "height": 34
        },
        "outputId": "e6783b4d-b391-476c-935d-b85f0132587b"
      },
      "source": [
        "np.min(Y_scaled_train)"
      ],
      "execution_count": 492,
      "outputs": [
        {
          "output_type": "execute_result",
          "data": {
            "text/plain": [
              "0.0"
            ]
          },
          "metadata": {
            "tags": []
          },
          "execution_count": 492
        }
      ]
    },
    {
      "cell_type": "code",
      "metadata": {
        "id": "ltuny1ngxqfH",
        "colab_type": "code",
        "colab": {
          "base_uri": "https://localhost:8080/",
          "height": 34
        },
        "outputId": "baef9249-b6e5-4a56-fef0-cb24a483ec15"
      },
      "source": [
        "np.max(Y_scaled_train)"
      ],
      "execution_count": 493,
      "outputs": [
        {
          "output_type": "execute_result",
          "data": {
            "text/plain": [
              "1.0"
            ]
          },
          "metadata": {
            "tags": []
          },
          "execution_count": 493
        }
      ]
    },
    {
      "cell_type": "code",
      "metadata": {
        "id": "p3jOPJDnx8y3",
        "colab_type": "code",
        "colab": {}
      },
      "source": [
        "Y_scaled_test=minmax_scaler.transform(Y_test.reshape(-1,1))"
      ],
      "execution_count": 494,
      "outputs": []
    },
    {
      "cell_type": "code",
      "metadata": {
        "id": "6xbcIqh0yZLH",
        "colab_type": "code",
        "colab": {}
      },
      "source": [
        "scaled_threshold=list(minmax_scaler.transform(np.array([threshold]).reshape(1,-1)))[0][0]"
      ],
      "execution_count": 495,
      "outputs": []
    },
    {
      "cell_type": "code",
      "metadata": {
        "id": "5Aw7nwGrz01O",
        "colab_type": "code",
        "colab": {
          "base_uri": "https://localhost:8080/",
          "height": 34
        },
        "outputId": "7cb448f2-1e10-4acb-8879-0a100e05ec58"
      },
      "source": [
        "scaled_threshold"
      ],
      "execution_count": 496,
      "outputs": [
        {
          "output_type": "execute_result",
          "data": {
            "text/plain": [
              "0.6800000000000002"
            ]
          },
          "metadata": {
            "tags": []
          },
          "execution_count": 496
        }
      ]
    },
    {
      "cell_type": "code",
      "metadata": {
        "id": "23BuFd3C0AM_",
        "colab_type": "code",
        "colab": {}
      },
      "source": [
        "Y_binarised_train=(Y_scaled_train>scaled_threshold).astype(\"int\").ravel()"
      ],
      "execution_count": 497,
      "outputs": []
    },
    {
      "cell_type": "code",
      "metadata": {
        "id": "_fI6Xkzk1CyR",
        "colab_type": "code",
        "colab": {
          "base_uri": "https://localhost:8080/",
          "height": 221
        },
        "outputId": "8b59501c-1ba8-4126-de8e-8fdee969ee76"
      },
      "source": [
        "Y_binarised_train"
      ],
      "execution_count": 498,
      "outputs": [
        {
          "output_type": "execute_result",
          "data": {
            "text/plain": [
              "array([0, 1, 1, 0, 1, 0, 0, 1, 0, 1, 1, 0, 1, 1, 1, 1, 0, 1, 1, 0, 1, 1,\n",
              "       0, 1, 0, 1, 1, 0, 1, 1, 0, 1, 0, 0, 0, 0, 0, 0, 0, 0, 0, 0, 0, 0,\n",
              "       1, 0, 0, 0, 1, 0, 1, 1, 0, 0, 0, 0, 1, 1, 1, 0, 0, 1, 0, 0, 0, 0,\n",
              "       1, 0, 0, 1, 1, 0, 1, 0, 1, 1, 0, 1, 1, 1, 1, 0, 0, 0, 0, 0, 0, 0,\n",
              "       0, 1, 1, 1, 0, 0, 0, 0, 0, 0, 1, 0, 1, 0, 0, 0, 0, 0, 0, 1, 0, 0,\n",
              "       0, 0, 0, 0, 1, 0, 0, 0, 1, 0, 1, 0, 0, 0, 1, 0, 0, 1, 0, 0, 1, 0,\n",
              "       0, 0, 1, 0, 1, 0, 0, 0, 0, 1, 0, 0, 1, 1, 0, 0, 1, 0, 0, 0, 1, 0,\n",
              "       1, 0, 1, 0, 0, 0, 0, 0, 0, 1, 0, 0, 0, 0, 0, 0, 0, 0, 1, 1, 1, 0,\n",
              "       0, 0, 1, 1, 0, 0, 1, 0, 1, 0, 1, 0, 1, 1, 1, 0, 0, 0, 0, 0, 0, 1,\n",
              "       0, 0, 0, 0, 1, 0, 0, 1, 0, 1, 1, 0, 0, 0, 0, 1, 0, 1, 0, 1, 0, 1,\n",
              "       0, 0, 0, 0, 0, 0, 0, 1, 0, 1, 0, 0, 0, 0, 0, 1, 0, 1, 0, 1, 1, 0,\n",
              "       1, 0, 1, 1, 1, 0, 0, 0, 0, 1, 0, 1, 1])"
            ]
          },
          "metadata": {
            "tags": []
          },
          "execution_count": 498
        }
      ]
    },
    {
      "cell_type": "code",
      "metadata": {
        "id": "L5QKddyD1Itn",
        "colab_type": "code",
        "colab": {}
      },
      "source": [
        "Y_binarised_test=(Y_scaled_test>scaled_threshold).astype(\"int\").ravel()"
      ],
      "execution_count": 499,
      "outputs": []
    },
    {
      "cell_type": "code",
      "metadata": {
        "id": "GsQc3qo-54zV",
        "colab_type": "code",
        "colab": {
          "base_uri": "https://localhost:8080/",
          "height": 85
        },
        "outputId": "f2e0ebd5-76ae-470e-c215-c65a8c954a49"
      },
      "source": [
        "Y_binarised_test"
      ],
      "execution_count": 500,
      "outputs": [
        {
          "output_type": "execute_result",
          "data": {
            "text/plain": [
              "array([0, 1, 1, 0, 1, 0, 1, 0, 0, 1, 1, 1, 1, 1, 0, 1, 0, 1, 0, 0, 0, 0,\n",
              "       0, 0, 0, 0, 0, 1, 0, 0, 0, 0, 0, 1, 0, 1, 0, 0, 1, 0, 1, 0, 1, 0,\n",
              "       0, 1, 0, 0, 0, 1, 0, 0, 1, 0, 0, 1, 1, 0, 1, 1, 0, 0, 0, 1, 1, 1,\n",
              "       1, 0, 1, 0, 1, 0, 0, 0, 0, 0, 0, 1, 0, 0, 0, 1, 0, 0, 1, 0])"
            ]
          },
          "metadata": {
            "tags": []
          },
          "execution_count": 500
        }
      ]
    },
    {
      "cell_type": "code",
      "metadata": {
        "id": "e0724GYu56Ww",
        "colab_type": "code",
        "colab": {}
      },
      "source": [
        "sn=SigmoidNeuron()"
      ],
      "execution_count": 501,
      "outputs": []
    },
    {
      "cell_type": "code",
      "metadata": {
        "id": "RZkpCBqG-x1Z",
        "colab_type": "code",
        "colab": {}
      },
      "source": [
        "sn.fit(X_scaled_train,Y_scaled_train,epochs=1000,learning_rate=0.01)"
      ],
      "execution_count": 503,
      "outputs": []
    },
    {
      "cell_type": "code",
      "metadata": {
        "id": "O_eUHqhB--SK",
        "colab_type": "code",
        "colab": {}
      },
      "source": [
        "Y_pred_train=sn.predict(X_scaled_train)\n",
        "Y_pred_test=sn.predict(X_scaled_test)"
      ],
      "execution_count": 504,
      "outputs": []
    },
    {
      "cell_type": "code",
      "metadata": {
        "id": "5d3VFunXA8JG",
        "colab_type": "code",
        "colab": {}
      },
      "source": [
        "Y_pred_binarised_train=(Y_pred_train>scaled_threshold).astype(\"int\").ravel()\n",
        "Y_pred_binarised_test=(Y_pred_test>scaled_threshold).astype(\"int\").ravel()"
      ],
      "execution_count": 505,
      "outputs": []
    },
    {
      "cell_type": "code",
      "metadata": {
        "id": "HZrmKdFbCVTj",
        "colab_type": "code",
        "colab": {}
      },
      "source": [
        "accuract_train=accuracy_score(Y_pred_binarised_train,Y_binarised_train)\n",
        "accuracy_test=accuracy_score(Y_pred_binarised_test,Y_binarised_test)"
      ],
      "execution_count": 506,
      "outputs": []
    },
    {
      "cell_type": "code",
      "metadata": {
        "id": "aurpAt15GMCk",
        "colab_type": "code",
        "colab": {
          "base_uri": "https://localhost:8080/",
          "height": 34
        },
        "outputId": "0fbdae4a-4420-4393-f5af-b18c1eedd87e"
      },
      "source": [
        "print(accuract_train,accuracy_test)"
      ],
      "execution_count": 507,
      "outputs": [
        {
          "output_type": "stream",
          "text": [
            "0.8235294117647058 0.8372093023255814\n"
          ],
          "name": "stdout"
        }
      ]
    }
  ]
}